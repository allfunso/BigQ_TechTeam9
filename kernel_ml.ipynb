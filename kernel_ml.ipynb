{
 "cells": [
  {
   "cell_type": "markdown",
   "id": "4c963804-1939-42f7-bd98-807b192a8bf9",
   "metadata": {},
   "source": [
    "# Big Q"
   ]
  },
  {
   "cell_type": "code",
   "execution_count": 1,
   "id": "539a768c-11c7-41c1-80f7-e4ef46ecfafe",
   "metadata": {},
   "outputs": [],
   "source": [
    "import pandas as pd\n",
    "import numpy as np\n",
    "import torch\n",
    "from torch.nn.functional import relu\n",
    "\n",
    "from sklearn.svm import SVC\n",
    "from sklearn.datasets import load_iris\n",
    "from sklearn.preprocessing import StandardScaler\n",
    "from sklearn.model_selection import train_test_split\n",
    "from sklearn.metrics import accuracy_score\n",
    "\n",
    "import pennylane as qml\n",
    "from pennylane.templates import AngleEmbedding, StronglyEntanglingLayers\n",
    "from pennylane.operation import Tensor\n",
    "\n",
    "import matplotlib.pyplot as plt\n",
    "\n",
    "np.random.seed(42)"
   ]
  },
  {
   "cell_type": "code",
   "execution_count": 11,
   "id": "3423bd70-b028-46f4-827e-a1054bf16674",
   "metadata": {},
   "outputs": [
    {
     "name": "stdout",
     "output_type": "stream",
     "text": [
      "(704, 6) (704,)\n"
     ]
    }
   ],
   "source": [
    "#X, y = load_iris(return_X_y=True)\n",
    "\n",
    "# Load data\n",
    "columns = ['q'+ str(i) for i in range(10)] + ['Age', 'Gender', 'Ethnicity', 'Born', 'Family', 'Who', 'Country', 'Used', 'Group','Screening', 'Score']\n",
    "data = pd.read_csv('autism_data.arff', sep=',', header=None)\n",
    "data.columns = columns\n",
    "data.head()\n",
    "\n",
    "# Create X and Y data\n",
    "X = data.iloc[:,:6]\n",
    "y = data.iloc[:,-1]\n",
    "y = np.double(y==\"YES\")\n",
    "print(X.shape, y.shape)\n",
    "\n",
    "# pick inputs and labels from the first two classes only,\n",
    "# corresponding to the first 100 samples\n",
    "X = X[:100]\n",
    "y = y[:100]\n",
    "\n",
    "# scaling the inputs is important since the embedding we use is periodic\n",
    "scaler = StandardScaler().fit(X)\n",
    "X_scaled = scaler.transform(X)\n",
    "\n",
    "# scaling the labels to -1, 1 is important for the SVM and the\n",
    "# definition of a hinge loss\n",
    "y_scaled = 2 * (y - 0.5)\n",
    "\n",
    "X_train, X_test, y_train, y_test = train_test_split(X_scaled, y_scaled)"
   ]
  },
  {
   "cell_type": "code",
   "execution_count": 12,
   "id": "e0693c48-ba14-4ca8-9da0-e849728aa0a3",
   "metadata": {},
   "outputs": [
    {
     "data": {
      "text/plain": [
       "array([-1., -1.,  1., -1., -1.,  1., -1., -1., -1.,  1.,  1., -1., -1.,\n",
       "       -1., -1., -1., -1., -1., -1., -1., -1., -1., -1., -1., -1., -1.,\n",
       "       -1., -1., -1., -1., -1.,  1., -1.,  1.,  1., -1., -1., -1.,  1.,\n",
       "        1.,  1., -1., -1., -1.,  1.,  1., -1., -1., -1., -1., -1.,  1.,\n",
       "       -1.,  1.,  1.,  1.,  1.,  1., -1., -1.,  1.,  1., -1., -1.,  1.,\n",
       "       -1., -1., -1., -1., -1., -1., -1., -1., -1., -1.,  1., -1.,  1.,\n",
       "       -1., -1., -1., -1.,  1., -1., -1., -1.,  1., -1., -1.,  1., -1.,\n",
       "       -1., -1.,  1.,  1., -1., -1., -1., -1., -1.])"
      ]
     },
     "execution_count": 12,
     "metadata": {},
     "output_type": "execute_result"
    }
   ],
   "source": [
    "y_scaled"
   ]
  },
  {
   "cell_type": "code",
   "execution_count": 13,
   "id": "d0d97450-f6a7-4763-bb55-76c8931bde9a",
   "metadata": {},
   "outputs": [
    {
     "data": {
      "text/plain": [
       "6"
      ]
     },
     "execution_count": 13,
     "metadata": {},
     "output_type": "execute_result"
    }
   ],
   "source": [
    "n_qubits = len(X_train[0])\n",
    "n_qubits"
   ]
  },
  {
   "cell_type": "code",
   "execution_count": 14,
   "id": "5306fd68-332f-4880-87d7-f7a8597af6d9",
   "metadata": {},
   "outputs": [],
   "source": [
    "dev_kernel = qml.device(\"lightning.qubit\", wires=n_qubits)\n",
    "\n",
    "projector = np.zeros((2**n_qubits, 2**n_qubits))\n",
    "projector[0, 0] = 1\n",
    "\n",
    "@qml.qnode(dev_kernel, interface=\"autograd\")\n",
    "def kernel(x1, x2):\n",
    "    \"\"\"The quantum kernel.\"\"\"\n",
    "    AngleEmbedding(x1, wires=range(n_qubits))\n",
    "    qml.adjoint(AngleEmbedding)(x2, wires=range(n_qubits))\n",
    "    return qml.expval(qml.Hermitian(projector, wires=range(n_qubits)))"
   ]
  },
  {
   "cell_type": "code",
   "execution_count": 15,
   "id": "9dc90858-952f-49a4-bff3-6c1d174d0af8",
   "metadata": {},
   "outputs": [
    {
     "data": {
      "text/plain": [
       "tensor(1., requires_grad=True)"
      ]
     },
     "execution_count": 15,
     "metadata": {},
     "output_type": "execute_result"
    }
   ],
   "source": [
    "kernel(X_train[0], X_train[0])"
   ]
  },
  {
   "cell_type": "code",
   "execution_count": 16,
   "id": "0f02775d-0ae8-4cb0-8012-50bb89417291",
   "metadata": {},
   "outputs": [],
   "source": [
    "def kernel_matrix(A, B):\n",
    "    \"\"\"Compute the matrix whose entries are the kernel\n",
    "       evaluated on pairwise data from sets A and B.\"\"\"\n",
    "    return np.array([[kernel(a, b) for b in B] for a in A])"
   ]
  },
  {
   "cell_type": "code",
   "execution_count": 17,
   "id": "89b4b42b-5c80-49a9-a98a-6c8a68ac692e",
   "metadata": {},
   "outputs": [],
   "source": [
    "svm = SVC(kernel=kernel_matrix).fit(X_train, y_train)"
   ]
  },
  {
   "cell_type": "code",
   "execution_count": 18,
   "id": "d2e21454-f175-46e3-b71a-a16b680e3f15",
   "metadata": {},
   "outputs": [
    {
     "data": {
      "text/plain": [
       "0.88"
      ]
     },
     "execution_count": 18,
     "metadata": {},
     "output_type": "execute_result"
    }
   ],
   "source": [
    "predictions = svm.predict(X_test)\n",
    "accuracy_score(predictions, y_test)"
   ]
  },
  {
   "cell_type": "code",
   "execution_count": 19,
   "id": "f16e206e-8d73-4612-808d-f68cd2966181",
   "metadata": {},
   "outputs": [
    {
     "data": {
      "text/plain": [
       "7501"
      ]
     },
     "execution_count": 19,
     "metadata": {},
     "output_type": "execute_result"
    }
   ],
   "source": [
    "dev_kernel.num_executions"
   ]
  },
  {
   "cell_type": "code",
   "execution_count": null,
   "id": "a126cdc2-39e2-4060-9a2b-ea9f51763f9f",
   "metadata": {},
   "outputs": [],
   "source": []
  }
 ],
 "metadata": {
  "kernelspec": {
   "display_name": "Python 3 [Pennylane]",
   "language": "python",
   "name": "python3_xanadu_fil4xi"
  },
  "language_info": {
   "codemirror_mode": {
    "name": "ipython",
    "version": 3
   },
   "file_extension": ".py",
   "mimetype": "text/x-python",
   "name": "python",
   "nbconvert_exporter": "python",
   "pygments_lexer": "ipython3",
   "version": "3.9.12"
  }
 },
 "nbformat": 4,
 "nbformat_minor": 5
}
